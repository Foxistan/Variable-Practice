{
 "cells": [
  {
   "cell_type": "code",
   "execution_count": 53,
   "id": "aca9c8e7-ede0-45db-9aa2-e51983a8f8f0",
   "metadata": {},
   "outputs": [
    {
     "name": "stdout",
     "output_type": "stream",
     "text": [
      "Hello World\n"
     ]
    }
   ],
   "source": [
    "print ('Hello World')"
   ]
  },
  {
   "cell_type": "code",
   "execution_count": 54,
   "id": "4e364bd6-4596-4c60-9eb6-3d605e4593d7",
   "metadata": {},
   "outputs": [],
   "source": [
    "a = 10"
   ]
  },
  {
   "cell_type": "code",
   "execution_count": 55,
   "id": "f7f87825-c1fd-42f8-9f8d-1524731fc006",
   "metadata": {},
   "outputs": [
    {
     "data": {
      "text/plain": [
       "int"
      ]
     },
     "execution_count": 55,
     "metadata": {},
     "output_type": "execute_result"
    }
   ],
   "source": [
    "type(a)"
   ]
  },
  {
   "cell_type": "code",
   "execution_count": 56,
   "id": "1c5e7587-81c9-4d8a-81b2-d998ea585067",
   "metadata": {},
   "outputs": [],
   "source": [
    "b = 'Fox'"
   ]
  },
  {
   "cell_type": "code",
   "execution_count": 57,
   "id": "9dc0766f-b929-4703-8ff5-bc0c94993f4e",
   "metadata": {},
   "outputs": [
    {
     "data": {
      "text/plain": [
       "str"
      ]
     },
     "execution_count": 57,
     "metadata": {},
     "output_type": "execute_result"
    }
   ],
   "source": [
    "type(b)"
   ]
  },
  {
   "cell_type": "code",
   "execution_count": 58,
   "id": "d238a41f-2459-4dbb-a9b7-3d8085c9cc58",
   "metadata": {},
   "outputs": [],
   "source": [
    "c = 10.25"
   ]
  },
  {
   "cell_type": "code",
   "execution_count": 59,
   "id": "a4c97af1-8f09-4c7f-b077-df0bad2adb66",
   "metadata": {},
   "outputs": [
    {
     "data": {
      "text/plain": [
       "float"
      ]
     },
     "execution_count": 59,
     "metadata": {},
     "output_type": "execute_result"
    }
   ],
   "source": [
    "type(c)"
   ]
  },
  {
   "cell_type": "code",
   "execution_count": 60,
   "id": "fea2beaf-ead8-4d0c-83be-29df4f0ba1ed",
   "metadata": {},
   "outputs": [],
   "source": [
    "d = 4501j"
   ]
  },
  {
   "cell_type": "code",
   "execution_count": 61,
   "id": "f208287d-2196-4b21-b59e-1069df5baff1",
   "metadata": {},
   "outputs": [
    {
     "data": {
      "text/plain": [
       "complex"
      ]
     },
     "execution_count": 61,
     "metadata": {},
     "output_type": "execute_result"
    }
   ],
   "source": [
    "type(d)"
   ]
  },
  {
   "cell_type": "code",
   "execution_count": 62,
   "id": "5a1d9248-a264-4bd8-8f9b-ae843bd44314",
   "metadata": {},
   "outputs": [],
   "source": [
    "e = True"
   ]
  },
  {
   "cell_type": "code",
   "execution_count": 63,
   "id": "c04fdb19-2784-42fe-9a8f-538b591468ac",
   "metadata": {},
   "outputs": [
    {
     "data": {
      "text/plain": [
       "bool"
      ]
     },
     "execution_count": 63,
     "metadata": {},
     "output_type": "execute_result"
    }
   ],
   "source": [
    "type(e)"
   ]
  },
  {
   "cell_type": "code",
   "execution_count": 64,
   "id": "a9d5e027-2343-432f-9f21-5ca8230444a1",
   "metadata": {},
   "outputs": [],
   "source": [
    "e1 = False"
   ]
  },
  {
   "cell_type": "code",
   "execution_count": 65,
   "id": "60336cc6-70d7-4c99-b237-1cd32e98075e",
   "metadata": {},
   "outputs": [
    {
     "data": {
      "text/plain": [
       "bool"
      ]
     },
     "execution_count": 65,
     "metadata": {},
     "output_type": "execute_result"
    }
   ],
   "source": [
    "type(e1)"
   ]
  },
  {
   "cell_type": "code",
   "execution_count": 66,
   "id": "5cff3d27-00be-4757-8a15-37ba17b2744b",
   "metadata": {},
   "outputs": [
    {
     "data": {
      "text/plain": [
       "4501.0"
      ]
     },
     "execution_count": 66,
     "metadata": {},
     "output_type": "execute_result"
    }
   ],
   "source": [
    "d.imag"
   ]
  },
  {
   "cell_type": "code",
   "execution_count": 67,
   "id": "aede1038-7d4d-4095-a57a-9fa308ad049c",
   "metadata": {},
   "outputs": [
    {
     "data": {
      "text/plain": [
       "0.0"
      ]
     },
     "execution_count": 67,
     "metadata": {},
     "output_type": "execute_result"
    }
   ],
   "source": [
    "d.real"
   ]
  },
  {
   "cell_type": "code",
   "execution_count": 87,
   "id": "01a9e2a2-a9e6-49e1-a1d2-4e344bc6b8f2",
   "metadata": {},
   "outputs": [],
   "source": [
    "f = 10"
   ]
  },
  {
   "cell_type": "code",
   "execution_count": 89,
   "id": "17f13c19-b15f-4004-9401-6197de9cb8ab",
   "metadata": {},
   "outputs": [
    {
     "data": {
      "text/plain": [
       "int"
      ]
     },
     "execution_count": 89,
     "metadata": {},
     "output_type": "execute_result"
    }
   ],
   "source": [
    "type(f)"
   ]
  }
 ],
 "metadata": {
  "kernelspec": {
   "display_name": "Python 3 (ipykernel)",
   "language": "python",
   "name": "python3"
  },
  "language_info": {
   "codemirror_mode": {
    "name": "ipython",
    "version": 3
   },
   "file_extension": ".py",
   "mimetype": "text/x-python",
   "name": "python",
   "nbconvert_exporter": "python",
   "pygments_lexer": "ipython3",
   "version": "3.10.8"
  }
 },
 "nbformat": 4,
 "nbformat_minor": 5
}
